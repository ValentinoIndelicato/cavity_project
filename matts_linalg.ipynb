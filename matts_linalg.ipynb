{
 "cells": [
  {
   "cell_type": "code",
   "execution_count": 47,
   "metadata": {},
   "outputs": [],
   "source": [
    "class Vector():\n",
    "    \"\"\"\n",
    "    This class represents vector quantities of any dimensions.\n",
    "    \"\"\"\n",
    "    def __init__(self, list):\n",
    "        \"\"\"Initializes vector quantity.\n",
    "\n",
    "        Args:\n",
    "            list (list): list of values to vectorize\n",
    "        \"\"\"\n",
    "        for i in range(len(list)):\n",
    "            setattr(self, f'x{i+1}', list[i])\n",
    "        self.__len = len(list)\n",
    "        return \n",
    "    \n",
    "    def __str__(self, ):\n",
    "        s = \"[\"\n",
    "        for i in range(len(self)):\n",
    "            s += \" \"+str(getattr(self, f\"x{i+1}\"))+\",\"\n",
    "        s = s[:-1]\n",
    "        s += \" ]\"\n",
    "        return s\n",
    "    \n",
    "    def __add__(v1:Vector , v2: Vector):\n",
    "        \n",
    "        if len(v1) != len(v2):\n",
    "            raise ArithmeticError(\"Cannot add vectors of different lengths.\")\n",
    "        \n",
    "        l = []\n",
    "        for i in range(len(v1)):\n",
    "            l.append(v1[i]+v2[i])\n",
    "        \n",
    "        return Vector(l)\n",
    "\n",
    "    def __sub__(v1:Vector, v2:Vector):\n",
    "        \n",
    "        if len(v1) != len(v2):\n",
    "            raise ArithmeticError(\"Cannot subtract vectors of different lengths.\")\n",
    "        \n",
    "        l = []\n",
    "        for i in range(len(v1)):\n",
    "            l.append(v1[i]-v2[i])\n",
    "        \n",
    "        return Vector(l)    \n",
    "    \n",
    "    def __mul__(v1:Vector, v2:Vector):\n",
    "        if len(v1) != len(v2):\n",
    "            raise ArithmeticError(\"Cannot scalar multiply vectors of different lengths.\")\n",
    "        \n",
    "        l = 0\n",
    "        for i in range(len(v1)):\n",
    "            l += (v1[i]*v2[i])\n",
    "        \n",
    "        return l \n",
    "    \n",
    "    def __len__(self, ):\n",
    "        return self.__len\n",
    "    \n",
    "    def __getitem__(self, index):\n",
    "\n",
    "        return getattr(self, f\"x{index+1}\")\n",
    "    \n",
    "    def __setitem__(self, index, value):\n",
    "        setattr(self, f\"x{index+1}\", value)\n",
    "        return\n",
    "    \n"
   ]
  },
  {
   "cell_type": "code",
   "execution_count": 48,
   "metadata": {},
   "outputs": [
    {
     "name": "stdout",
     "output_type": "stream",
     "text": [
      "v1: [ 1, 2, 3 ]\n",
      "v2: [ 2, 3, 4 ]\n",
      "v1+v2: [ 3, 5, 7 ]\n",
      "v1-v2: [ -1, -1, -1 ]\n",
      "v1.v2: 20\n"
     ]
    }
   ],
   "source": [
    "v1 = Vector([1, 2,3])\n",
    "v2 = Vector([2, 3, 4])\n",
    "\n",
    "# print(\"v1:\", v1)\n",
    "# print(\"v2:\", v2)\n",
    "\n",
    "# print(\"v1+v2:\", v1 + v2)\n",
    "# print(\"v1-v2:\", v1 - v2)\n",
    "# print(\"v1.v2:\", v1 * v2)\n",
    "\n"
   ]
  },
  {
   "cell_type": "code",
   "execution_count": null,
   "metadata": {},
   "outputs": [],
   "source": []
  }
 ],
 "metadata": {
  "kernelspec": {
   "display_name": "base",
   "language": "python",
   "name": "python3"
  },
  "language_info": {
   "codemirror_mode": {
    "name": "ipython",
    "version": 3
   },
   "file_extension": ".py",
   "mimetype": "text/x-python",
   "name": "python",
   "nbconvert_exporter": "python",
   "pygments_lexer": "ipython3",
   "version": "3.10.12"
  }
 },
 "nbformat": 4,
 "nbformat_minor": 2
}
