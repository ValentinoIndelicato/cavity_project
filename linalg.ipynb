{
 "cells": [
  {
   "cell_type": "code",
   "execution_count": null,
   "metadata": {},
   "outputs": [],
   "source": [
    "class Vector():\n",
    "    # Write a doc-string for what quantity this class will represent\n",
    "\n",
    "    def __init__(self, ):\n",
    "        # finish this method so that it takes in a list and populates attributes as well \n",
    "        # setting an attribute self.array = list\n",
    "        return \n",
    "    \n",
    "    def __str__(self, ):\n",
    "        # finish this method so that when yo print a Vector object, it iteritevly \n",
    "        # prints the values in the same line\n",
    "        return\n",
    "    \n",
    "    def __add__(self, ):\n",
    "        # finish this method to properly add vectors together\n",
    "        return\n",
    "\n",
    "    def __sub__(self, ):\n",
    "        # finish this method to properly subtract vectors\n",
    "\n",
    "        return\n",
    "    \n",
    "    def __mul__(self, ):\n",
    "        # finish this method to execute the dot product\n",
    "        return\n",
    "    \n"
   ]
  }
 ],
 "metadata": {
  "kernelspec": {
   "display_name": "cavity",
   "language": "python",
   "name": "python3"
  },
  "language_info": {
   "name": "python",
   "version": "3.12.4"
  }
 },
 "nbformat": 4,
 "nbformat_minor": 2
}
